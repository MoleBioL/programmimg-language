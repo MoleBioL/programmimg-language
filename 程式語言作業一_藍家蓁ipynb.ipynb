{
 "cells": [
  {
   "cell_type": "code",
   "execution_count": null,
   "metadata": {},
   "outputs": [],
   "source": [
    "#importcsv"
   ]
  },
  {
   "cell_type": "code",
   "execution_count": 1,
   "metadata": {},
   "outputs": [],
   "source": [
    "csv_file_path = r'C:\\Users\\USER\\Downloads\\shooting.csv'"
   ]
  },
  {
   "cell_type": "markdown",
   "metadata": {},
   "source": [
    "import pandas"
   ]
  },
  {
   "cell_type": "code",
   "execution_count": 2,
   "metadata": {},
   "outputs": [],
   "source": [
    "import pandas as pd"
   ]
  },
  {
   "cell_type": "markdown",
   "metadata": {},
   "source": [
    "用第一堂課學的讀取CSV文件並轉換為DataFrame\n",
    "encoding='cp1252'是機器人提供的debug，原因是因為CSV文件中包含了無法用UTF-8解碼的字節引起的。\n",
    "解決此問題的方法是指定正確的編碼方式。你可以在read_csv()函數中使用encoding參數來指定CSV文件的編碼方式。\n",
    "請嘗試將read_csv()函數中的encoding參數設置為CSV文件的實際編碼方式，例如encoding='cp1252'\n",
    "然而我其實很菜不太確定encoding參數是什麼"
   ]
  },
  {
   "cell_type": "code",
   "execution_count": 6,
   "metadata": {},
   "outputs": [
    {
     "name": "stdout",
     "output_type": "stream",
     "text": [
      "   S#                                 Title            Location       Date  \\\n",
      "0   1         Las Vegas Strip mass shooting       Las Vegas, NV  10/1/2017   \n",
      "1   2            San Francisco UPS shooting   San Francisco, CA  6/14/2017   \n",
      "2   3     Pennsylvania supermarket shooting     Tunkhannock, PA   6/7/2017   \n",
      "3   4  Florida awning manufacturer shooting    Orlando, Florida   6/5/2017   \n",
      "4   5      Rural Ohio nursing home shooting  Kirkersville, Ohio  5/12/2017   \n",
      "\n",
      "                                             Summary  Fatalities  Injured  \\\n",
      "0                                                NaN          58      527   \n",
      "1  Jimmy Lam, 38, fatally shot three coworkers an...           3        2   \n",
      "2  Randy Stair, a 24-year-old worker at Weis groc...           3        0   \n",
      "3  John Robert Neumann, Jr., 45, a former employe...           5        0   \n",
      "4  Thomas Hartless, 43, shot and killed a former ...           3        0   \n",
      "\n",
      "   Total victims Mental Health Issues   Race Gender   Latitude   Longitude  \n",
      "0            585              Unclear  White      M  36.181271 -115.134132  \n",
      "1              5                  Yes  Asian      M        NaN         NaN  \n",
      "2              3              Unclear  White      M        NaN         NaN  \n",
      "3              5              Unclear    NaN      M        NaN         NaN  \n",
      "4              3                  Yes  White      M        NaN         NaN  \n"
     ]
    }
   ],
   "source": [
    "df = pd.read_csv(r'C:\\Users\\USER\\Downloads\\shooting.csv', encoding='cp1252')\n",
    "print(df.head())"
   ]
  },
  {
   "cell_type": "markdown",
   "metadata": {},
   "source": [
    "現在，我希望能show出欄位都是white的那些案件，透過機器人\n",
    "white_records = df[df['race'] == 'white']\n",
    "我進一步提問，這一句語法的詳細意思\n",
    "df：這是一個變數，代表著 DataFrame 物件，其中儲存了 CSV 文件的數據。\n",
    "\n",
    "df['race']：df 後面的方括號 [] 用於索引 DataFrame 的欄位，'race' 是你想要索引的欄位名稱。\n",
    "\n",
    "==：這是 Python 中的比較運算符，用於比較兩個值是否相等。\n",
    "\n",
    "'white'：這是一個字符串，代表著我們想要找出的特定值。"
   ]
  },
  {
   "cell_type": "code",
   "execution_count": 9,
   "metadata": {},
   "outputs": [],
   "source": [
    "white_records = df[df['Race'] == 'White']"
   ]
  },
  {
   "cell_type": "markdown",
   "metadata": {},
   "source": [
    "檢查一下"
   ]
  },
  {
   "cell_type": "code",
   "execution_count": 10,
   "metadata": {},
   "outputs": [
    {
     "name": "stdout",
     "output_type": "stream",
     "text": [
      "      S#                              Title                    Location  \\\n",
      "0      1      Las Vegas Strip mass shooting               Las Vegas, NV   \n",
      "2      3  Pennsylvania supermarket shooting             Tunkhannock, PA   \n",
      "4      5   Rural Ohio nursing home shooting          Kirkersville, Ohio   \n",
      "54    55           Kalamazoo shooting spree  Kalamazoo County, Michigan   \n",
      "79    80          Planned Parenthood clinic  Colorado Springs, Colorado   \n",
      "103  104         Charleston Church Shooting  Charleston, South Carolina   \n",
      "151  152             Isla Vista mass murder   Santa Barbara, California   \n",
      "\n",
      "           Date                                            Summary  \\\n",
      "0     10/1/2017                                                NaN   \n",
      "2      6/7/2017  Randy Stair, a 24-year-old worker at Weis groc...   \n",
      "4     5/12/2017  Thomas Hartless, 43, shot and killed a former ...   \n",
      "54    2/20/2016  Jason B. Dalton, a driver for Uber, apparently...   \n",
      "79   11/27/2015  Robert Lewis Dear, 57, shot and killed a polic...   \n",
      "103   6/17/2015  Dylann Storm Roof, 21, shot and killed 9 peopl...   \n",
      "151   5/23/2014  Elliot Rodger, 22, shot three people to death ...   \n",
      "\n",
      "     Fatalities  Injured  Total victims Mental Health Issues   Race Gender  \\\n",
      "0            58      527            585              Unclear  White      M   \n",
      "2             3        0              3              Unclear  White      M   \n",
      "4             3        0              3                  Yes  White      M   \n",
      "54            6        2              8              Unclear  White      M   \n",
      "79            3        9             12              Unclear  White      M   \n",
      "103           9        1             10              unknown  White   Male   \n",
      "151           6       13             19                  Yes  White      M   \n",
      "\n",
      "      Latitude   Longitude  \n",
      "0    36.181271 -115.134132  \n",
      "2          NaN         NaN  \n",
      "4          NaN         NaN  \n",
      "54         NaN         NaN  \n",
      "79         NaN         NaN  \n",
      "103  32.788387  -79.933143  \n",
      "151        NaN         NaN  \n"
     ]
    }
   ],
   "source": [
    "print(white_records)"
   ]
  },
  {
   "cell_type": "markdown",
   "metadata": {},
   "source": [
    "如法炮製，希望自己能做出整筆資料顯示等於Male或M的，可是剛剛只要white現在Male or M都算\n",
    "我不知道怎麼在查資料時用or，所以只好再找出機器人，我知道如果我只要Male的話那就只要\n",
    "Male_record = df[df['Gender'] == 'Male']\n",
    "現在缺如何找到M跟Male都算\n",
    "機器人給我的答案是\n",
    "male_records = df[(df['sex'] == 'Male') | (df['sex'] == 'M')]\n",
    "顯然，|這個符號是用來做or的\n"
   ]
  },
  {
   "cell_type": "code",
   "execution_count": 11,
   "metadata": {},
   "outputs": [],
   "source": [
    "male_records = df[(df['Gender'] == 'Male') | (df['Gender'] == 'M')]"
   ]
  },
  {
   "cell_type": "markdown",
   "metadata": {},
   "source": [
    "檢查一下"
   ]
  },
  {
   "cell_type": "code",
   "execution_count": 12,
   "metadata": {},
   "outputs": [
    {
     "name": "stdout",
     "output_type": "stream",
     "text": [
      "      S#                                 Title                Location  \\\n",
      "0      1         Las Vegas Strip mass shooting           Las Vegas, NV   \n",
      "1      2            San Francisco UPS shooting       San Francisco, CA   \n",
      "2      3     Pennsylvania supermarket shooting         Tunkhannock, PA   \n",
      "3      4  Florida awning manufacturer shooting        Orlando, Florida   \n",
      "4      5      Rural Ohio nursing home shooting      Kirkersville, Ohio   \n",
      "..   ...                                   ...                     ...   \n",
      "315  316        Clara Barton Elementary School       Chicago, Illinois   \n",
      "316  317          New Orleans Police Shootings  New Orleans, Louisiana   \n",
      "317  318                   St. Aloysius Church     Spokane, Washington   \n",
      "318  319            Rose-Mar College of Beauty           Mesa, Arizona   \n",
      "319  320         University of Texas at Austin           Austin, Texas   \n",
      "\n",
      "           Date                                            Summary  \\\n",
      "0     10/1/2017                                                NaN   \n",
      "1     6/14/2017  Jimmy Lam, 38, fatally shot three coworkers an...   \n",
      "2      6/7/2017  Randy Stair, a 24-year-old worker at Weis groc...   \n",
      "3      6/5/2017  John Robert Neumann, Jr., 45, a former employe...   \n",
      "4     5/12/2017  Thomas Hartless, 43, shot and killed a former ...   \n",
      "..          ...                                                ...   \n",
      "315   1/17/1974  On January 17, 1974, a 14-year-old student ent...   \n",
      "316  12/31/1972  On New Year's Eve in 1972, a 23-year-old ex-Na...   \n",
      "317  11/11/1971  On November 11, 1971, a former MIT student ent...   \n",
      "318  11/12/1966  On November 12, 1966, an 18-year-old high scho...   \n",
      "319    8/1/1966  On August 1, 1966, a 25-year-old engineering s...   \n",
      "\n",
      "     Fatalities  Injured  Total victims Mental Health Issues  \\\n",
      "0            58      527            585              Unclear   \n",
      "1             3        2              5                  Yes   \n",
      "2             3        0              3              Unclear   \n",
      "3             5        0              5              Unclear   \n",
      "4             3        0              3                  Yes   \n",
      "..          ...      ...            ...                  ...   \n",
      "315           1        3              4                  Yes   \n",
      "316          10       13             22                  Yes   \n",
      "317           2        4              5                  Yes   \n",
      "318           5        1              6                  Yes   \n",
      "319          17       32             48                  Yes   \n",
      "\n",
      "                                    Race Gender   Latitude   Longitude  \n",
      "0                                  White      M  36.181271 -115.134132  \n",
      "1                                  Asian      M        NaN         NaN  \n",
      "2                                  White      M        NaN         NaN  \n",
      "3                                    NaN      M        NaN         NaN  \n",
      "4                                  White      M        NaN         NaN  \n",
      "..                                   ...    ...        ...         ...  \n",
      "315                              Unknown   Male  41.839280  -87.688181  \n",
      "316   Black American or African American   Male  30.068724  -89.931474  \n",
      "317  White American or European American   Male  47.673674 -117.415984  \n",
      "318  White American or European American   Male  33.422687 -111.816320  \n",
      "319  White American or European American   Male  30.198887  -97.844159  \n",
      "\n",
      "[289 rows x 13 columns]\n"
     ]
    }
   ],
   "source": [
    "print(male_records)"
   ]
  },
  {
   "cell_type": "markdown",
   "metadata": {},
   "source": [
    "現在我抓出白人跟男性的資料了，但我不需要這麼長的資料，我只需要事件名稱title，然後把title轉換成set，我才能做聯集交集\n",
    "機器人讓我分段做，首先提取title\n",
    "# 從 male_records 和 white_records 中提取 Title 欄位的值\n",
    "male_titles = set(male_records['Title'])\n",
    "white_titles = set(white_records['Title'])\n",
    "\n",
    "# 轉換為 set 並打印結果\n",
    "male_titles_set = set(male_titles)\n",
    "white_titles_set = set(white_titles)\n",
    "\n",
    "print(male_titles_set)\n",
    "print(white_titles_set)\n",
    "\n",
    "可是這樣很奇怪，我第一步就是set為什麼還要再set一次，所以我跟機器人再次確認\n",
    "# 從 male_records 和 white_records 中提取 Title 欄位的值\n",
    "male_titles = male_records['Title']\n",
    "white_titles = white_records['Title']\n",
    "\n",
    "# 轉換為 set 並打印結果\n",
    "male_titles_set = set(male_titles)\n",
    "white_titles_set = set(white_titles)\n",
    "\n",
    "這樣不是分成兩步嗎，他第一次給的\n",
    "male_titles = set(male_records['Title'])\n",
    "white_titles = set(white_records['Title'])\n",
    "好像更讚\n",
    "然後機器人連續道歉，看起來是可以的"
   ]
  },
  {
   "cell_type": "code",
   "execution_count": 13,
   "metadata": {},
   "outputs": [],
   "source": [
    "male_titles = set(male_records['Title'])\n",
    "white_titles = set(white_records['Title'])"
   ]
  },
  {
   "cell_type": "markdown",
   "metadata": {},
   "source": [
    "確認一下"
   ]
  },
  {
   "cell_type": "code",
   "execution_count": 14,
   "metadata": {},
   "outputs": [
    {
     "name": "stdout",
     "output_type": "stream",
     "text": [
      "{'Missouri Highway shooting', 'Charleston Church Shooting', 'Virginia Tech massacre', 'Tulsa', 'Walter Rossler Company', 'Westroads Mall shooting', 'Kennesaw FedEx', 'Birchwood, Wisconsin', 'Lindhurst High School', 'Chelsea High School', 'Milwaukee Post Office', 'Pennsburg, Souderton, Lansdale, Harleysville', 'New Orleans gas station shoot-out', \"McAvan's Pub\", 'Sparks Middle School', 'Southern Union State Community College', 'Cal State Fullerton', 'San Francisco UPS shooting', 'Ladera Ranch, Santa Ana, Tustin and Orange', \"Club Maxey's\", \"McDonald's restaurant in San Ysidro\", 'Orlando, Florida', \"Monroeville Macy's\", 'Florida State University', 'Orange High School', 'Colerain Township, Ohio', 'Post office in Edmond, Oklahoma', 'Fresno downtown shooting', 'Minneapolis, Minnesota', 'Mohawk and Herkimer Villages in New York', 'Ridgewood Post Office', 'Wat Promkunaram Buddhist Temple', 'Rose-Mar College of Beauty', 'Marysville-Pilchuck High School', 'Columbus, Ohio', 'Kalamazoo shooting spree', 'Pearl High School', 'University of Iowa', 'Caroline County, VA Family Murder Suicide', 'Clearbrook (Greenwood), Minnesota', 'Glendale, AZ House Party shooting', 'Detroit Strip Club Shootout', '49th Street Elementary School', 'Rivermark, Santa Clara, California', 'Perris, CA Mexican restaurant shooting', 'Belfair, Washington', 'Louisville, KY Family Murder-Suicide', 'Dallas police shooting', 'Kansas City, Kansas', 'Miami Gardens', 'Annual motorcycle event in Newark', 'Panama City Beach', 'Cafe in Seattle', 'Carthage nursing home shooting', 'Massachusetts Abortion Clinic', 'Valley High School', 'Grand 16 Theatre, Louisiana', 'Clara Barton Elementary School', 'Bristol, Tennessee', 'Florida family murder', 'Fort Hood shooting 2', 'Hartford Beer Distributor shooting', \"Simon's Rock College of Bard\", 'Damageplan show at the Alrosa Villa Nightclub', 'Kansas City Home Invasion', 'Standard Gravure Corporation', 'Rural Ohio nursing home shooting', 'Riverside City Hall', 'Boom Boom Room', 'Kalamazoo Uber Driver Spree Killing', 'Amnicola Training Center, Chattanooga', 'Gloucester County, VA, House Party', 'Village of Manchester in Illinois', 'Seattle Pacific University', 'Seattle cafe shooting', 'Hesston, Kansas', 'Killeen', 'Rome', 'Fort Hood Army Base', 'Fairchild Air Force Base Hospital', 'Planned Parenthood clinic', 'The Spot Nightclub', 'Thurston High School', 'Richmond, Virginia', 'Charlotte', 'Memphis', 'Caltrans Maintenance Yard', 'Lockheed Martin shooting', 'Riverside restaurant shooting', 'Cleveland Elementary School', 'Tennessee Colony, Texas', 'Navistar International', 'Santa Monica College', 'Daytona Beach', 'South Mountain Community College', 'Clackamas Town Center', 'Los Angeles International Airport (LAX)', 'Youngstown State University', 'Binghamton shootings', 'Oakland, Maine', 'Northern Illinois University shooting', 'Orange Glenn Post Office', 'Sikh Temple in Wisconsin', 'Johnston Post Office', 'Louisburg, North Carolina', 'Pinelake Health and Rehab nursing home', 'Albuquerque, NM Family restaurant shooting', \"Luby's Cafeteria in Killeen, Texas\", \"Hill Haven Event Center (Formerly Club CJ's)\", 'Westside Middle School killings', 'Albuquerque Auto Shop', 'Texas family murder-suicide', 'Residence in Lakeland, Florida', 'Coffee shop police killings', 'Mesa', 'Suwanee', 'St. Aloysius Church', 'Albuquerque, NM House party shooting', 'Fort Lauderdale airport shooting', 'Schuyler County Office Building', 'Lawrenceburg, Tennessee', 'Parkland Coffee Shop', 'Crandon shooting', 'Atlanta Post Office', 'Frontier Junior High School', 'LaGrange', 'Residences in Grand Rapids', 'Central Middle School', 'Homes in Desoto and Dallas', 'Sherman, Texas Family Murder-Suicide', 'Connecticut State Lottery Headquarters', 'Long Island Rail Road Commuter Train', 'Brookhaven', 'Aurora theater shooting', 'South Valley Residence', 'Downtown Chapel Hill', 'Offices of All-Tech Investment Group and Momentum Securities', 'Heath High School', 'Florida awning manufacturer shooting', 'Los Angeles Computer Learning Center', 'Las Vegas Strip mass shooting', 'Deer Lodge', 'King, North Carolina', 'Salon Meritage', 'Case Western Reserve University', 'Oakland Elementary School', 'Inglis, Florida', 'Palm Bay Shopping Centers', 'Ensley Birmingham', 'South Middle School Football Game', 'Omaha', 'Chardon High School', 'Fort Hood', 'Dearborn Post Office', 'University of Texas at Austin', 'Chelsea, MA empty apartment party shooting', 'Geneva County, Alabama', 'Gates Pub', 'SuccessTech Academy', 'Pennsylvania supermarket shooting', 'Mojave High School Bus', 'Offices of Pettit & Martin in San Francisco', 'Morgantown', 'Oklahoma City Residence', 'Su Jung Health Sauna shooting', 'Michigan school shooting', 'Kirkwood City Hall', 'Wakefield massacre', 'Arizona Family Murder', 'San Diego State University', 'Trestle Trail bridge shooting', 'River Forest', 'Platte, South Dakota', 'Fort Lauderdale revenge shooting', 'Radisson Bay Harbor Inn', 'Chuck E. Cheese in Aurora', 'Pittsburgh, Pennsylvania', 'Fox Cities Trestle Trail bridge over Little Lake Butte des Morts', 'Parker Middle School Dance', 'Greenhill, AL Family murder-suicide', 'R.E. Phelon Company', 'Living Church of God', \"Birmingham's Washington Park\", 'Tucson shooting', 'Alabama highway random shooting', 'Tucson', 'Conyers', 'Tyrone', 'University of Arizona College of Nursing', 'Goddard Junior High School', 'Isla Vista mass murder', \"Ianni's Club in Dallas\", 'New Orleans Police Shootings', 'Indianapolis', 'Tarboro', 'Fergus County High School', 'Olean High School', 'Welding shop in Miami', 'Cascade Mall shooting', 'Washington Navy Yard', 'Excel Industries mass shooting', 'Atlantis Plastics', 'Cleveland', 'Springwater Trail High School', 'New York Technical College', 'Capitol Hill massacre', 'Tyler Courthouse', 'Youth With A Mission and New Life Church', 'Iuka, Mississippi', 'Bourbon Street New Orleans', 'Belfair, WA Family murder-suicide', 'Moscow', 'Virginia WDBJ live TV interview shooting', 'Accent Signage Systems in Minneapolis', 'Weber State University', 'Wilmington, DE robbery', 'Los Angeles Police Department', 'Windy City Core Supply Warehouse', 'University of South Carolina', 'Sandy Hook Elementary School', 'Clarkesville', 'Jacksonville, Florida', 'Ross Township Supervisor Council Meeting', 'Heritage High School', 'Halifax County, VA', 'Hialeah apartment shooting', 'Azana Spa in Brookfield', 'IHOP shooting', 'West Nickel Mines Amish School', 'Wah Mee Club in Seattle', 'Baton Rouge police shooting', 'Phoenix', 'Oikos University killings', 'Wetumpka Drive-by', 'Northern Arizona University at Flagstaff Campus', 'Trolley Square', 'San Francisco Tenderloin', 'Orlando nightclub massacre', 'Chesapeake, Virginia', 'Red Lake High School', 'Wedgwood Baptist Church', 'Royal Oak Post Office', 'Milwaukee', 'Woodbridge, Virginia', 'University of Central Arkansas', 'GMAC Loan Office', 'New Orleans Downtown Post Office', 'Colorado Springs', 'Cottonwood', 'Douglasville', 'North Tulsa, Oklahoma', 'Fort Gibson Middle School', 'Xerox killings', 'Elberton, Georgia murder-suicide', 'Appalachian School of Law', 'Columbine High School', 'Umpqua Community College', 'Bethel Regional High School', 'Texas teen commits family murder suicide', 'Parking lot near Boys and Girls Club', 'Houston, Texas', 'Amish school shooting', 'Palo Duro High School', 'Electromagnetic Systems Laboratory (ESL)', 'Roswell, GA Hookah shootout', 'Phoenix Law Firm', 'Duquesne University', 'Comet Auto Parts and Montefiore School', 'Little Water', 'Essex Elementary School', 'Chapel Hill', 'Santana High School', 'Queens', 'Richland High School', 'Montclair Post Office', \"Luigi's Restaurant in Fayetteville\", 'Wickliffe Middle School', 'Centennial Hill Bar & Grill', 'Pinellas Park High School', 'Wilkinsburg BBQ cookout shootout', 'Pinewood Village Apartments', 'University Heights Apartments in Auburn', 'Waycross, GA', 'Omaha, Nebraska', 'Tire-Slashing revenge escalation', 'Residence in Union, Kentucky', 'Covina, California', 'Dana Point Post Office'}\n",
      "{'Pennsylvania supermarket shooting', 'Charleston Church Shooting', 'Las Vegas Strip mass shooting', 'Planned Parenthood clinic', 'Rural Ohio nursing home shooting', 'Kalamazoo shooting spree', 'Isla Vista mass murder'}\n"
     ]
    }
   ],
   "source": [
    "print(male_titles)\n",
    "print(white_titles)"
   ]
  },
  {
   "cell_type": "markdown",
   "metadata": {},
   "source": [
    "終於做到這一步，我好感動QQ\n",
    "接著取聯集/交集/差集\n",
    "聯集（Union）\n",
    "交集（Intersection）\n",
    "差集（Difference）\n",
    "差集會有分A-B跟B-A的不同"
   ]
  },
  {
   "cell_type": "code",
   "execution_count": 15,
   "metadata": {},
   "outputs": [],
   "source": [
    "union_titles = male_titles.union(white_titles)"
   ]
  },
  {
   "cell_type": "code",
   "execution_count": 16,
   "metadata": {},
   "outputs": [
    {
     "name": "stdout",
     "output_type": "stream",
     "text": [
      "{'Missouri Highway shooting', 'Tulsa', 'Walter Rossler Company', 'Westroads Mall shooting', 'Pennsburg, Souderton, Lansdale, Harleysville', 'New Orleans gas station shoot-out', \"McAvan's Pub\", 'Sparks Middle School', 'Cal State Fullerton', 'San Francisco UPS shooting', \"Club Maxey's\", \"McDonald's restaurant in San Ysidro\", 'Orlando, Florida', 'Florida State University', 'Orange High School', 'Post office in Edmond, Oklahoma', 'Fresno downtown shooting', 'Minneapolis, Minnesota', 'Mohawk and Herkimer Villages in New York', 'Marysville-Pilchuck High School', 'Columbus, Ohio', 'Kalamazoo shooting spree', 'Pearl High School', 'Caroline County, VA Family Murder Suicide', 'Glendale, AZ House Party shooting', 'Detroit Strip Club Shootout', 'Rivermark, Santa Clara, California', 'Belfair, Washington', 'Louisville, KY Family Murder-Suicide', 'Dallas police shooting', 'Kansas City, Kansas', 'Miami Gardens', 'Annual motorcycle event in Newark', 'Cafe in Seattle', 'Carthage nursing home shooting', 'Massachusetts Abortion Clinic', 'Valley High School', 'Bristol, Tennessee', 'Florida family murder', 'Fort Hood shooting 2', 'Hartford Beer Distributor shooting', 'Standard Gravure Corporation', 'Rural Ohio nursing home shooting', 'Boom Boom Room', 'Amnicola Training Center, Chattanooga', 'Village of Manchester in Illinois', 'Seattle cafe shooting', 'The Spot Nightclub', 'Memphis', 'Caltrans Maintenance Yard', 'Cleveland Elementary School', 'Riverside restaurant shooting', 'Navistar International', 'Santa Monica College', 'Daytona Beach', 'South Mountain Community College', 'Los Angeles International Airport (LAX)', 'Orange Glenn Post Office', 'Northern Illinois University shooting', 'Johnston Post Office', 'Albuquerque, NM Family restaurant shooting', \"Luby's Cafeteria in Killeen, Texas\", 'Albuquerque Auto Shop', 'Residence in Lakeland, Florida', 'Suwanee', 'Fort Lauderdale airport shooting', 'Residences in Grand Rapids', 'Homes in Desoto and Dallas', 'Sherman, Texas Family Murder-Suicide', 'Long Island Rail Road Commuter Train', 'Brookhaven', 'Aurora theater shooting', 'Downtown Chapel Hill', 'Offices of All-Tech Investment Group and Momentum Securities', 'Heath High School', 'Las Vegas Strip mass shooting', 'Salon Meritage', 'Case Western Reserve University', 'Oakland Elementary School', 'Palm Bay Shopping Centers', 'Fort Hood', 'Dearborn Post Office', 'University of Texas at Austin', 'Chelsea, MA empty apartment party shooting', 'Geneva County, Alabama', 'Pennsylvania supermarket shooting', 'Su Jung Health Sauna shooting', 'Wakefield massacre', 'San Diego State University', 'Trestle Trail bridge shooting', 'River Forest', 'Platte, South Dakota', 'Pittsburgh, Pennsylvania', 'Fox Cities Trestle Trail bridge over Little Lake Butte des Morts', 'Greenhill, AL Family murder-suicide', 'R.E. Phelon Company', 'Living Church of God', 'Alabama highway random shooting', 'Tucson', 'Conyers', 'University of Arizona College of Nursing', 'Goddard Junior High School', 'Indianapolis', 'Tarboro', 'Fergus County High School', 'Olean High School', 'Welding shop in Miami', 'Cascade Mall shooting', 'Washington Navy Yard', 'Atlantis Plastics', 'Cleveland', 'Youth With A Mission and New Life Church', 'Iuka, Mississippi', 'Virginia WDBJ live TV interview shooting', 'Wilmington, DE robbery', 'Los Angeles Police Department', 'University of South Carolina', 'Clarkesville', 'Jacksonville, Florida', 'Ross Township Supervisor Council Meeting', 'Halifax County, VA', 'Azana Spa in Brookfield', 'IHOP shooting', 'West Nickel Mines Amish School', 'Wah Mee Club in Seattle', 'Oikos University killings', 'Wetumpka Drive-by', 'Northern Arizona University at Flagstaff Campus', 'Orlando nightclub massacre', 'Red Lake High School', 'Royal Oak Post Office', 'Colorado Springs', 'Xerox killings', 'Fort Gibson Middle School', 'Columbine High School', 'Elberton, Georgia murder-suicide', 'Bethel Regional High School', 'Texas teen commits family murder suicide', 'Houston, Texas', 'Comet Auto Parts and Montefiore School', 'Essex Elementary School', 'Chapel Hill', \"Luigi's Restaurant in Fayetteville\", 'Wickliffe Middle School', 'Centennial Hill Bar & Grill', 'Pinellas Park High School', 'Wilkinsburg BBQ cookout shootout', 'Pinewood Village Apartments', 'University Heights Apartments in Auburn', 'Waycross, GA', 'Residence in Union, Kentucky', 'Covina, California', 'Dana Point Post Office', 'Charleston Church Shooting', 'Virginia Tech massacre', 'Kennesaw FedEx', 'Birchwood, Wisconsin', 'Lindhurst High School', 'Chelsea High School', 'Milwaukee Post Office', 'Southern Union State Community College', 'Ladera Ranch, Santa Ana, Tustin and Orange', \"Monroeville Macy's\", 'Rose-Mar College of Beauty', 'Colerain Township, Ohio', 'Ridgewood Post Office', 'Wat Promkunaram Buddhist Temple', 'University of Iowa', 'Clearbrook (Greenwood), Minnesota', '49th Street Elementary School', 'Perris, CA Mexican restaurant shooting', 'Panama City Beach', 'Grand 16 Theatre, Louisiana', 'Clara Barton Elementary School', \"Simon's Rock College of Bard\", 'Damageplan show at the Alrosa Villa Nightclub', 'Kansas City Home Invasion', 'Riverside City Hall', 'Kalamazoo Uber Driver Spree Killing', 'Gloucester County, VA, House Party', 'Seattle Pacific University', 'Fort Hood Army Base', 'Hesston, Kansas', 'Killeen', 'Rome', 'Fairchild Air Force Base Hospital', 'Planned Parenthood clinic', 'Thurston High School', 'Richmond, Virginia', 'Charlotte', 'Lockheed Martin shooting', 'Tennessee Colony, Texas', 'Clackamas Town Center', 'Youngstown State University', 'Binghamton shootings', 'Oakland, Maine', 'Sikh Temple in Wisconsin', 'Louisburg, North Carolina', 'Pinelake Health and Rehab nursing home', \"Hill Haven Event Center (Formerly Club CJ's)\", 'Westside Middle School killings', 'Texas family murder-suicide', 'Coffee shop police killings', 'Mesa', 'St. Aloysius Church', 'Albuquerque, NM House party shooting', 'Schuyler County Office Building', 'Lawrenceburg, Tennessee', 'Parkland Coffee Shop', 'Crandon shooting', 'Atlanta Post Office', 'Frontier Junior High School', 'LaGrange', 'Central Middle School', 'Connecticut State Lottery Headquarters', 'South Valley Residence', 'Florida awning manufacturer shooting', 'Los Angeles Computer Learning Center', 'Deer Lodge', 'King, North Carolina', 'Inglis, Florida', 'Ensley Birmingham', 'South Middle School Football Game', 'Omaha', 'Chardon High School', 'Gates Pub', 'SuccessTech Academy', 'Mojave High School Bus', 'Offices of Pettit & Martin in San Francisco', 'Morgantown', 'Oklahoma City Residence', 'Kirkwood City Hall', 'Michigan school shooting', 'Arizona Family Murder', 'Fort Lauderdale revenge shooting', 'Chuck E. Cheese in Aurora', 'Parker Middle School Dance', \"Birmingham's Washington Park\", 'Tucson shooting', 'Tyrone', 'Isla Vista mass murder', \"Ianni's Club in Dallas\", 'New Orleans Police Shootings', 'Excel Industries mass shooting', 'Springwater Trail High School', 'New York Technical College', 'Capitol Hill massacre', 'Tyler Courthouse', 'Bourbon Street New Orleans', 'Belfair, WA Family murder-suicide', 'Moscow', 'Accent Signage Systems in Minneapolis', 'Weber State University', 'Windy City Core Supply Warehouse', 'Sandy Hook Elementary School', 'Heritage High School', 'Hialeah apartment shooting', 'Baton Rouge police shooting', 'Phoenix', 'Trolley Square', 'San Francisco Tenderloin', 'Chesapeake, Virginia', 'Wedgwood Baptist Church', 'Milwaukee', 'Woodbridge, Virginia', 'University of Central Arkansas', 'GMAC Loan Office', 'New Orleans Downtown Post Office', 'Cottonwood', 'Douglasville', 'North Tulsa, Oklahoma', 'Appalachian School of Law', 'Umpqua Community College', 'Parking lot near Boys and Girls Club', 'Amish school shooting', 'Palo Duro High School', 'Electromagnetic Systems Laboratory (ESL)', 'Roswell, GA Hookah shootout', 'Phoenix Law Firm', 'Duquesne University', 'Little Water', 'Santana High School', 'Richland High School', 'Montclair Post Office', 'Queens', 'Omaha, Nebraska', 'Tire-Slashing revenge escalation', 'Radisson Bay Harbor Inn'}\n"
     ]
    }
   ],
   "source": [
    "print(union_titles)"
   ]
  },
  {
   "cell_type": "code",
   "execution_count": 17,
   "metadata": {},
   "outputs": [
    {
     "name": "stdout",
     "output_type": "stream",
     "text": [
      "{'Pennsylvania supermarket shooting', 'Charleston Church Shooting', 'Las Vegas Strip mass shooting', 'Planned Parenthood clinic', 'Rural Ohio nursing home shooting', 'Kalamazoo shooting spree', 'Isla Vista mass murder'}\n"
     ]
    }
   ],
   "source": [
    "intersection_titles = male_titles.intersection(white_titles)\n",
    "print(intersection_titles)"
   ]
  },
  {
   "cell_type": "code",
   "execution_count": 21,
   "metadata": {},
   "outputs": [
    {
     "name": "stdout",
     "output_type": "stream",
     "text": [
      "{'Missouri Highway shooting', 'Tulsa', 'Walter Rossler Company', 'Westroads Mall shooting', 'Pennsburg, Souderton, Lansdale, Harleysville', 'New Orleans gas station shoot-out', \"McAvan's Pub\", 'Sparks Middle School', 'Cal State Fullerton', 'San Francisco UPS shooting', \"Club Maxey's\", \"McDonald's restaurant in San Ysidro\", 'Orlando, Florida', 'Florida State University', 'Orange High School', 'Post office in Edmond, Oklahoma', 'Fresno downtown shooting', 'Minneapolis, Minnesota', 'Mohawk and Herkimer Villages in New York', 'Marysville-Pilchuck High School', 'Columbus, Ohio', 'Pearl High School', 'Caroline County, VA Family Murder Suicide', 'Glendale, AZ House Party shooting', 'Detroit Strip Club Shootout', 'Rivermark, Santa Clara, California', 'Belfair, Washington', 'Louisville, KY Family Murder-Suicide', 'Dallas police shooting', 'Kansas City, Kansas', 'Miami Gardens', 'Annual motorcycle event in Newark', 'Cafe in Seattle', 'Carthage nursing home shooting', 'Massachusetts Abortion Clinic', 'Valley High School', 'Bristol, Tennessee', 'Florida family murder', 'Fort Hood shooting 2', 'Hartford Beer Distributor shooting', 'Standard Gravure Corporation', 'Boom Boom Room', 'Amnicola Training Center, Chattanooga', 'Village of Manchester in Illinois', 'Seattle cafe shooting', 'The Spot Nightclub', 'Memphis', 'Caltrans Maintenance Yard', 'Cleveland Elementary School', 'Riverside restaurant shooting', 'Navistar International', 'Santa Monica College', 'Daytona Beach', 'South Mountain Community College', 'Los Angeles International Airport (LAX)', 'Orange Glenn Post Office', 'Northern Illinois University shooting', 'Johnston Post Office', 'Albuquerque, NM Family restaurant shooting', \"Luby's Cafeteria in Killeen, Texas\", 'Albuquerque Auto Shop', 'Residence in Lakeland, Florida', 'Suwanee', 'Fort Lauderdale airport shooting', 'Residences in Grand Rapids', 'Homes in Desoto and Dallas', 'Sherman, Texas Family Murder-Suicide', 'Long Island Rail Road Commuter Train', 'Brookhaven', 'Aurora theater shooting', 'Downtown Chapel Hill', 'Offices of All-Tech Investment Group and Momentum Securities', 'Heath High School', 'Salon Meritage', 'Case Western Reserve University', 'Oakland Elementary School', 'Palm Bay Shopping Centers', 'Fort Hood', 'Dearborn Post Office', 'University of Texas at Austin', 'Chelsea, MA empty apartment party shooting', 'Geneva County, Alabama', 'Su Jung Health Sauna shooting', 'Wakefield massacre', 'San Diego State University', 'Trestle Trail bridge shooting', 'River Forest', 'Platte, South Dakota', 'Pittsburgh, Pennsylvania', 'Fox Cities Trestle Trail bridge over Little Lake Butte des Morts', 'Greenhill, AL Family murder-suicide', 'R.E. Phelon Company', 'Living Church of God', 'Alabama highway random shooting', 'Tucson', 'Conyers', 'University of Arizona College of Nursing', 'Goddard Junior High School', 'Indianapolis', 'Tarboro', 'Fergus County High School', 'Olean High School', 'Welding shop in Miami', 'Cascade Mall shooting', 'Washington Navy Yard', 'Atlantis Plastics', 'Cleveland', 'Youth With A Mission and New Life Church', 'Iuka, Mississippi', 'Virginia WDBJ live TV interview shooting', 'Wilmington, DE robbery', 'Los Angeles Police Department', 'University of South Carolina', 'Clarkesville', 'Jacksonville, Florida', 'Ross Township Supervisor Council Meeting', 'Halifax County, VA', 'Azana Spa in Brookfield', 'IHOP shooting', 'West Nickel Mines Amish School', 'Wah Mee Club in Seattle', 'Oikos University killings', 'Wetumpka Drive-by', 'Northern Arizona University at Flagstaff Campus', 'Orlando nightclub massacre', 'Red Lake High School', 'Royal Oak Post Office', 'Colorado Springs', 'Xerox killings', 'Fort Gibson Middle School', 'Columbine High School', 'Elberton, Georgia murder-suicide', 'Bethel Regional High School', 'Texas teen commits family murder suicide', 'Houston, Texas', 'Comet Auto Parts and Montefiore School', 'Essex Elementary School', 'Chapel Hill', \"Luigi's Restaurant in Fayetteville\", 'Wickliffe Middle School', 'Centennial Hill Bar & Grill', 'Pinellas Park High School', 'Wilkinsburg BBQ cookout shootout', 'Pinewood Village Apartments', 'University Heights Apartments in Auburn', 'Waycross, GA', 'Residence in Union, Kentucky', 'Covina, California', 'Dana Point Post Office', 'Virginia Tech massacre', 'Kennesaw FedEx', 'Birchwood, Wisconsin', 'Lindhurst High School', 'Chelsea High School', 'Milwaukee Post Office', 'Southern Union State Community College', 'Ladera Ranch, Santa Ana, Tustin and Orange', \"Monroeville Macy's\", 'Rose-Mar College of Beauty', 'Colerain Township, Ohio', 'Ridgewood Post Office', 'Wat Promkunaram Buddhist Temple', 'University of Iowa', 'Clearbrook (Greenwood), Minnesota', '49th Street Elementary School', 'Perris, CA Mexican restaurant shooting', 'Panama City Beach', 'Grand 16 Theatre, Louisiana', 'Clara Barton Elementary School', \"Simon's Rock College of Bard\", 'Damageplan show at the Alrosa Villa Nightclub', 'Kansas City Home Invasion', 'Riverside City Hall', 'Kalamazoo Uber Driver Spree Killing', 'Gloucester County, VA, House Party', 'Seattle Pacific University', 'Fort Hood Army Base', 'Hesston, Kansas', 'Killeen', 'Rome', 'Fairchild Air Force Base Hospital', 'Thurston High School', 'Richmond, Virginia', 'Charlotte', 'Lockheed Martin shooting', 'Tennessee Colony, Texas', 'Clackamas Town Center', 'Youngstown State University', 'Binghamton shootings', 'Oakland, Maine', 'Sikh Temple in Wisconsin', 'Louisburg, North Carolina', 'Pinelake Health and Rehab nursing home', \"Hill Haven Event Center (Formerly Club CJ's)\", 'Westside Middle School killings', 'Texas family murder-suicide', 'Coffee shop police killings', 'Mesa', 'St. Aloysius Church', 'Albuquerque, NM House party shooting', 'Schuyler County Office Building', 'Lawrenceburg, Tennessee', 'Parkland Coffee Shop', 'Crandon shooting', 'Atlanta Post Office', 'Frontier Junior High School', 'LaGrange', 'Central Middle School', 'Connecticut State Lottery Headquarters', 'South Valley Residence', 'Florida awning manufacturer shooting', 'Los Angeles Computer Learning Center', 'Deer Lodge', 'King, North Carolina', 'Inglis, Florida', 'Ensley Birmingham', 'South Middle School Football Game', 'Omaha', 'Chardon High School', 'Gates Pub', 'SuccessTech Academy', 'Mojave High School Bus', 'Offices of Pettit & Martin in San Francisco', 'Morgantown', 'Oklahoma City Residence', 'Kirkwood City Hall', 'Michigan school shooting', 'Arizona Family Murder', 'Fort Lauderdale revenge shooting', 'Chuck E. Cheese in Aurora', 'Parker Middle School Dance', \"Birmingham's Washington Park\", 'Tucson shooting', 'Tyrone', \"Ianni's Club in Dallas\", 'New Orleans Police Shootings', 'Excel Industries mass shooting', 'Springwater Trail High School', 'New York Technical College', 'Capitol Hill massacre', 'Tyler Courthouse', 'Bourbon Street New Orleans', 'Belfair, WA Family murder-suicide', 'Moscow', 'Accent Signage Systems in Minneapolis', 'Weber State University', 'Windy City Core Supply Warehouse', 'Sandy Hook Elementary School', 'Heritage High School', 'Hialeah apartment shooting', 'Baton Rouge police shooting', 'Phoenix', 'Trolley Square', 'San Francisco Tenderloin', 'Chesapeake, Virginia', 'Wedgwood Baptist Church', 'Milwaukee', 'Woodbridge, Virginia', 'University of Central Arkansas', 'GMAC Loan Office', 'New Orleans Downtown Post Office', 'Cottonwood', 'Douglasville', 'North Tulsa, Oklahoma', 'Appalachian School of Law', 'Umpqua Community College', 'Parking lot near Boys and Girls Club', 'Amish school shooting', 'Palo Duro High School', 'Electromagnetic Systems Laboratory (ESL)', 'Roswell, GA Hookah shootout', 'Phoenix Law Firm', 'Duquesne University', 'Little Water', 'Santana High School', 'Richland High School', 'Montclair Post Office', 'Queens', 'Omaha, Nebraska', 'Tire-Slashing revenge escalation', 'Radisson Bay Harbor Inn'}\n"
     ]
    }
   ],
   "source": [
    "male_only_titles = male_titles.difference(white_titles)\n",
    "print(male_only_titles)"
   ]
  },
  {
   "cell_type": "markdown",
   "metadata": {},
   "source": [
    "由於之前聽說過美國人對黑人犯罪很敏感，扯上種族歧視，而其中犯罪可能也性別有關，據說犯罪都是男性居多\n",
    "透過三者分析，可以發現今天如果是白人而且是白人男性的犯罪案件有\n",
    "'Pennsylvania supermarket shooting', 'Charleston Church Shooting', 'Las Vegas Strip mass shooting', 'Planned Parenthood clinic', 'Rural Ohio nursing home shooting', 'Kalamazoo shooting spree', 'Isla Vista mass murder'\n",
    "非白人男性的犯罪案件有\n",
    "{'Missouri Highway shooting', 'Tulsa', 'Walter Rossler Company', 'Westroads Mall shooting', 'Pennsburg, Souderton, Lansdale, Harleysville', 'New Orleans gas station shoot-out', \"McAvan's Pub\", 'Sparks Middle School', 'Cal State Fullerton', 'San Francisco UPS shooting', \"Club Maxey's\", \"McDonald's restaurant in San Ysidro\", 'Orlando, Florida', 'Florida State University', 'Orange High School', 'Post office in Edmond, Oklahoma', 'Fresno downtown shooting', 'Minneapolis, Minnesota', 'Mohawk and Herkimer Villages in New York', 'Marysville-Pilchuck High School', 'Columbus, Ohio', 'Pearl High School', 'Caroline County, VA Family Murder Suicide', 'Glendale, AZ House Party shooting', 'Detroit Strip Club Shootout', 'Rivermark, Santa Clara, California', 'Belfair, Washington', 'Louisville, KY Family Murder-Suicide', 'Dallas police shooting', 'Kansas City, Kansas', 'Miami Gardens', 'Annual motorcycle event in Newark', 'Cafe in Seattle', 'Carthage nursing home shooting', 'Massachusetts Abortion Clinic', 'Valley High School', 'Bristol, Tennessee', 'Florida family murder', 'Fort Hood shooting 2', 'Hartford Beer Distributor shooting', 'Standard Gravure Corporation', 'Boom Boom Room', 'Amnicola Training Center, Chattanooga', 'Village of Manchester in Illinois', 'Seattle cafe shooting', 'The Spot Nightclub', 'Memphis', 'Caltrans Maintenance Yard', 'Cleveland Elementary School', 'Riverside restaurant shooting', 'Navistar International', 'Santa Monica College', 'Daytona Beach', 'South Mountain Community College', 'Los Angeles International Airport (LAX)', 'Orange Glenn Post Office', 'Northern Illinois University shooting', 'Johnston Post Office', 'Albuquerque, NM Family restaurant shooting', \"Luby's Cafeteria in Killeen, Texas\", 'Albuquerque Auto Shop', 'Residence in Lakeland, Florida', 'Suwanee', 'Fort Lauderdale airport shooting', 'Residences in Grand Rapids', 'Homes in Desoto and Dallas', 'Sherman, Texas Family Murder-Suicide', 'Long Island Rail Road Commuter Train', 'Brookhaven', 'Aurora theater shooting', 'Downtown Chapel Hill', 'Offices of All-Tech Investment Group and Momentum Securities', 'Heath High School', 'Salon Meritage', 'Case Western Reserve University', 'Oakland Elementary School', 'Palm Bay Shopping Centers', 'Fort Hood', 'Dearborn Post Office', 'University of Texas at Austin', 'Chelsea, MA empty apartment party shooting', 'Geneva County, Alabama', 'Su Jung Health Sauna shooting', 'Wakefield massacre', 'San Diego State University', 'Trestle Trail bridge shooting', 'River Forest', 'Platte, South Dakota', 'Pittsburgh, Pennsylvania', 'Fox Cities Trestle Trail bridge over Little Lake Butte des Morts', 'Greenhill, AL Family murder-suicide', 'R.E. Phelon Company', 'Living Church of God', 'Alabama highway random shooting', 'Tucson', 'Conyers', 'University of Arizona College of Nursing', 'Goddard Junior High School', 'Indianapolis', 'Tarboro', 'Fergus County High School', 'Olean High School', 'Welding shop in Miami', 'Cascade Mall shooting', 'Washington Navy Yard', 'Atlantis Plastics', 'Cleveland', 'Youth With A Mission and New Life Church', 'Iuka, Mississippi', 'Virginia WDBJ live TV interview shooting', 'Wilmington, DE robbery', 'Los Angeles Police Department', 'University of South Carolina', 'Clarkesville', 'Jacksonville, Florida', 'Ross Township Supervisor Council Meeting', 'Halifax County, VA', 'Azana Spa in Brookfield', 'IHOP shooting', 'West Nickel Mines Amish School', 'Wah Mee Club in Seattle', 'Oikos University killings', 'Wetumpka Drive-by', 'Northern Arizona University at Flagstaff Campus', 'Orlando nightclub massacre', 'Red Lake High School', 'Royal Oak Post Office', 'Colorado Springs', 'Xerox killings', 'Fort Gibson Middle School', 'Columbine High School', 'Elberton, Georgia murder-suicide', 'Bethel Regional High School', 'Texas teen commits family murder suicide', 'Houston, Texas', 'Comet Auto Parts and Montefiore School', 'Essex Elementary School', 'Chapel Hill', \"Luigi's Restaurant in Fayetteville\", 'Wickliffe Middle School', 'Centennial Hill Bar & Grill', 'Pinellas Park High School', 'Wilkinsburg BBQ cookout shootout', 'Pinewood Village Apartments', 'University Heights Apartments in Auburn', 'Waycross, GA', 'Residence in Union, Kentucky', 'Covina, California', 'Dana Point Post Office', 'Virginia Tech massacre', 'Kennesaw FedEx', 'Birchwood, Wisconsin', 'Lindhurst High School', 'Chelsea High School', 'Milwaukee Post Office', 'Southern Union State Community College', 'Ladera Ranch, Santa Ana, Tustin and Orange', \"Monroeville Macy's\", 'Rose-Mar College of Beauty', 'Colerain Township, Ohio', 'Ridgewood Post Office', 'Wat Promkunaram Buddhist Temple', 'University of Iowa', 'Clearbrook (Greenwood), Minnesota', '49th Street Elementary School', 'Perris, CA Mexican restaurant shooting', 'Panama City Beach', 'Grand 16 Theatre, Louisiana', 'Clara Barton Elementary School', \"Simon's Rock College of Bard\", 'Damageplan show at the Alrosa Villa Nightclub', 'Kansas City Home Invasion', 'Riverside City Hall', 'Kalamazoo Uber Driver Spree Killing', 'Gloucester County, VA, House Party', 'Seattle Pacific University', 'Fort Hood Army Base', 'Hesston, Kansas', 'Killeen', 'Rome', 'Fairchild Air Force Base Hospital', 'Thurston High School', 'Richmond, Virginia', 'Charlotte', 'Lockheed Martin shooting', 'Tennessee Colony, Texas', 'Clackamas Town Center', 'Youngstown State University', 'Binghamton shootings', 'Oakland, Maine', 'Sikh Temple in Wisconsin', 'Louisburg, North Carolina', 'Pinelake Health and Rehab nursing home', \"Hill Haven Event Center (Formerly Club CJ's)\", 'Westside Middle School killings', 'Texas family murder-suicide', 'Coffee shop police killings', 'Mesa', 'St. Aloysius Church', 'Albuquerque, NM House party shooting', 'Schuyler County Office Building', 'Lawrenceburg, Tennessee', 'Parkland Coffee Shop', 'Crandon shooting', 'Atlanta Post Office', 'Frontier Junior High School', 'LaGrange', 'Central Middle School', 'Connecticut State Lottery Headquarters', 'South Valley Residence', 'Florida awning manufacturer shooting', 'Los Angeles Computer Learning Center', 'Deer Lodge', 'King, North Carolina', 'Inglis, Florida', 'Ensley Birmingham', 'South Middle School Football Game', 'Omaha', 'Chardon High School', 'Gates Pub', 'SuccessTech Academy', 'Mojave High School Bus', 'Offices of Pettit & Martin in San Francisco', 'Morgantown', 'Oklahoma City Residence', 'Kirkwood City Hall', 'Michigan school shooting', 'Arizona Family Murder', 'Fort Lauderdale revenge shooting', 'Chuck E. Cheese in Aurora', 'Parker Middle School Dance', \"Birmingham's Washington Park\", 'Tucson shooting', 'Tyrone', \"Ianni's Club in Dallas\", 'New Orleans Police Shootings', 'Excel Industries mass shooting', 'Springwater Trail High School', 'New York Technical College', 'Capitol Hill massacre', 'Tyler Courthouse', 'Bourbon Street New Orleans', 'Belfair, WA Family murder-suicide', 'Moscow', 'Accent Signage Systems in Minneapolis', 'Weber State University', 'Windy City Core Supply Warehouse', 'Sandy Hook Elementary School', 'Heritage High School', 'Hialeah apartment shooting', 'Baton Rouge police shooting', 'Phoenix', 'Trolley Square', 'San Francisco Tenderloin', 'Chesapeake, Virginia', 'Wedgwood Baptist Church', 'Milwaukee', 'Woodbridge, Virginia', 'University of Central Arkansas', 'GMAC Loan Office', 'New Orleans Downtown Post Office', 'Cottonwood', 'Douglasville', 'North Tulsa, Oklahoma', 'Appalachian School of Law', 'Umpqua Community College', 'Parking lot near Boys and Girls Club', 'Amish school shooting', 'Palo Duro High School', 'Electromagnetic Systems Laboratory (ESL)', 'Roswell, GA Hookah shootout', 'Phoenix Law Firm', 'Duquesne University', 'Little Water', 'Santana High School', 'Richland High School', 'Montclair Post Office', 'Queens', 'Omaha, Nebraska', 'Tire-Slashing revenge escalation', 'Radisson Bay Harbor Inn'}\n",
    "看起來在男性這個集合裡面，這筆資料(單純就這個CSV檔案)，非白人男性的犯罪真的比起白人男性多很多很多\n",
    "而其中聯集(資料感覺會更多)就代表是白人或是男性犯罪，或許可以回推CSV檔案，看這些資料佔所有案例的百分之多少作比較分析"
   ]
  },
  {
   "cell_type": "markdown",
   "metadata": {},
   "source": [
    "上次學習的:\n",
    "如何importcsv(當初沒有在檔名前面寫r還有以為下載VS code附贈python就搞了好久，今天不用搞這個真的可喜可賀)\n",
    "安裝numpy/pandas/令資料成為dataframe\n",
    "今天的學習:\n",
    "1.沒想到import csv還要考慮文件裡的字元(但這個太深奧了)\n",
    "2.提取需要的欄位的值df[df[]]\n",
    "3.提取需要的可以用A或B，透過|\n",
    "4.將欄位轉換成set利用set()\n",
    "5.做交集聯集差集\n",
    "6.用kaggle找資料\n",
    "\n",
    "感覺我還是好菜...同學們都好厲害喔QQ\n",
    "我好想寫很帥的code但現在我如果不問機器人\n",
    "我頂多import csv/import numpy/import pandas/ df=csv/print/set\n",
    "老師上次用pandas以外的包裝畫出小提琴圖我還要等等參透...現在先來參透我怎麼把這個檔案放github\n",
    "希望一切順利"
   ]
  }
 ],
 "metadata": {
  "kernelspec": {
   "display_name": "Python 3",
   "language": "python",
   "name": "python3"
  },
  "language_info": {
   "codemirror_mode": {
    "name": "ipython",
    "version": 3
   },
   "file_extension": ".py",
   "mimetype": "text/x-python",
   "name": "python",
   "nbconvert_exporter": "python",
   "pygments_lexer": "ipython3",
   "version": "3.12.2"
  }
 },
 "nbformat": 4,
 "nbformat_minor": 2
}
